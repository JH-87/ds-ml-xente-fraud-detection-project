{
 "cells": [
  {
   "cell_type": "code",
   "execution_count": null,
   "metadata": {},
   "outputs": [],
   "source": [
    "from basic_functions import *\n",
    "from sklearn.metrics import confusion_matrix, f1_score, matthews_corrcoef\n",
    "from sklearn.model_selection import GridSearchCV, RandomizedSearchCV"
   ]
  },
  {
   "cell_type": "code",
   "execution_count": null,
   "metadata": {},
   "outputs": [],
   "source": [
    "#get data\n",
    "df = get_data_from_csv()\n",
    "df.head()"
   ]
  },
  {
   "cell_type": "code",
   "execution_count": null,
   "metadata": {},
   "outputs": [],
   "source": [
    "# do some feature engineering\n",
    "df = feature_engineering(df)\n",
    "df.head()"
   ]
  },
  {
   "cell_type": "code",
   "execution_count": null,
   "metadata": {},
   "outputs": [],
   "source": [
    "# split into train and test data\n",
    "X_train, X_test, y_train, y_test = tts_custom(df, RSEED = 42)"
   ]
  },
  {
   "cell_type": "code",
   "execution_count": null,
   "metadata": {},
   "outputs": [],
   "source": [
    "# Do SMOTENC\n",
    "X_train_sm, y_train_sm = custom_smote(X_train, y_train, 42)"
   ]
  },
  {
   "cell_type": "code",
   "execution_count": null,
   "metadata": {},
   "outputs": [],
   "source": [
    "# distinguish between numerical and categorical features\n",
    "cat_features = [\n",
    "    \"ProviderId\", \"ProductCategory\", \"ChannelId\", \"PricingStrategy\", \"weekday\", \"difference\", \"InOut\"\n",
    "    ]\n",
    "num_features = [\"Value\", \"time_of_day\"]\n",
    "\n",
    "# scale numerical features\n",
    "X_train_sm_sc, X_test_sc = custom_preprocess(X_train_sm, X_test, nf=num_features)"
   ]
  },
  {
   "cell_type": "code",
   "execution_count": null,
   "metadata": {},
   "outputs": [],
   "source": [
    "# Create dummy variables for training and test set\n",
    "X_train_sm_sc, cat_features_dummies = cust_dummies(X_train_sm_sc, cat_features)\n",
    "X_test_sc, cat_features = cust_dummies(X_test_sc, cat_features)"
   ]
  },
  {
   "cell_type": "code",
   "execution_count": null,
   "metadata": {},
   "outputs": [],
   "source": [
    "# Train a logistic regression classifier\n",
    "y_train_sm_lr, y_test_lr = custom_logreg(X_train_sm_sc, X_test_sc, y_train_sm, y_test)\n",
    "confusion_matrix(y_test, y_test_lr)"
   ]
  },
  {
   "cell_type": "code",
   "execution_count": null,
   "metadata": {},
   "outputs": [],
   "source": [
    "# Train a Naive Bayes classifier\n",
    "y_train_sm_nb, y_test_nb = custom_nb(X_train_sm_sc, X_test_sc, y_train_sm, y_test)\n",
    "confusion_matrix(y_test, y_test_nb)"
   ]
  },
  {
   "cell_type": "code",
   "execution_count": null,
   "metadata": {},
   "outputs": [],
   "source": [
    "# Train a Random Forest classifier\n",
    "y_train_sm_rf, y_test_rf = custom_rf(X_train_sm_sc, X_test_sc, y_train_sm, y_test)\n",
    "confusion_matrix(y_test, y_test_rf)"
   ]
  },
  {
   "cell_type": "code",
   "execution_count": null,
   "metadata": {},
   "outputs": [],
   "source": [
    "# Train a KNN classifier\n",
    "y_train_sm_knn, y_test_knn = custom_knn(X_train_sm_sc, X_test_sc, y_train_sm, y_test)\n",
    "confusion_matrix(y_test, y_test_knn)"
   ]
  },
  {
   "cell_type": "code",
   "execution_count": null,
   "metadata": {},
   "outputs": [],
   "source": [
    "# Train a support vector machines classifier\n",
    "y_train_sm_svc, y_test_svc = custom_svc(X_train_sm_sc, X_test_sc, y_train_sm, y_test)\n",
    "confusion_matrix(y_test, y_test_svc)"
   ]
  },
  {
   "cell_type": "code",
   "execution_count": null,
   "metadata": {},
   "outputs": [],
   "source": [
    "# train a stacking classifier\n",
    "y_train_sm_stack, y_test_stack = custom_knn(X_train_sm_sc, X_test_sc, y_train_sm, y_test)\n",
    "confusion_matrix(y_test, y_test_stack)"
   ]
  },
  {
   "cell_type": "code",
   "execution_count": null,
   "metadata": {},
   "outputs": [],
   "source": [
    "############################\n",
    "#       Show scores        #\n",
    "############################\n",
    "\n",
    "# Calculating the accuracy for the LogisticRegression Classifier \n",
    "print('Cross validation scores Logistic Regression:')\n",
    "print('-------------------------')\n",
    "print(\"F1-score: {:.2f}\".format(f1_score(y_test, y_test_lr)))\n",
    "print(\"MCC: {:.2f}\".format(matthews_corrcoef(y_test, y_test_lr)))\n",
    "\n",
    "# Calculating the accuracy for the RandomForest Classifier \n",
    "print('Cross validation scores Random Forest:')\n",
    "print('-------------------------')\n",
    "print(\"F1-score: {:.2f}\".format(f1_score(y_test, y_test_rf)))\n",
    "print(\"MCC: {:.2f}\".format(matthews_corrcoef(y_test, y_test_rf)))\n",
    "\n",
    "# Calculating the accuracy for the KNN Classifier \n",
    "print('Cross validation scores KNN:')\n",
    "print('-------------------------')\n",
    "print(\"F1-score: {:.2f}\".format(f1_score(y_test, y_test_knn)))\n",
    "print(\"MCC: {:.2f}\".format(matthews_corrcoef(y_test, y_test_knn)))\n",
    "\n",
    "# Calculating the accuracy for the SVM Classifier \n",
    "print('Cross validation scores SVM:')\n",
    "print('-------------------------')\n",
    "print(\"F1-score: {:.2f}\".format(f1_score(y_test, y_test_svc)))\n",
    "print(\"MCC: {:.2f}\".format(matthews_corrcoef(y_test, y_test_svc)))\n",
    "\n",
    "# Calculating the accuracy for the Naive Bayes Classifier \n",
    "print('Cross validation scores Naive Bayes:')\n",
    "print('-------------------------')\n",
    "print(\"F1-score: {:.2f}\".format(f1_score(y_test, y_test_nb)))\n",
    "print(\"MCC: {:.2f}\".format(matthews_corrcoef(y_test, y_test_nb)))\n",
    "\n",
    "# Calculating the accuracy for the stacking Classifier \n",
    "print('Cross validation scores Stack:')\n",
    "print('-------------------------')\n",
    "print(\"F1-score: {:.2f}\".format(f1_score(y_test, y_test_stack)))\n",
    "print(\"MCC: {:.2f}\".format(matthews_corrcoef(y_test, y_test_stack)))"
   ]
  },
  {
   "cell_type": "code",
   "execution_count": null,
   "metadata": {},
   "outputs": [],
   "source": [
    "########################################################\n",
    "#     Random search for Random Forest classifier       #\n",
    "########################################################\n",
    "from sklearn.ensemble import RandomForestClassifier\n",
    "from sklearn.model_selection import RandomizedSearchCV\n",
    "import numpy as np\n",
    "# Number of trees in random forest\n",
    "n_estimators = [int(x) for x in np.linspace(start = 200, stop = 2000, num = 10)]\n",
    "# Number of features to consider at every split\n",
    "max_features = ['auto', 'sqrt']\n",
    "# Maximum number of levels in tree\n",
    "max_depth = [int(x) for x in np.linspace(10, 110, num = 11)]\n",
    "max_depth.append(None)\n",
    "# Minimum number of samples required to split a node\n",
    "min_samples_split = [2, 5, 10]\n",
    "# Minimum number of samples required at each leaf node\n",
    "min_samples_leaf = [1, 2, 4]\n",
    "# Method of selecting samples for training each tree\n",
    "bootstrap = [True, False]\n",
    "# Create the random grid\n",
    "random_grid = {'n_estimators': n_estimators,\n",
    "               'max_features': max_features,\n",
    "               'max_depth': max_depth,\n",
    "               'min_samples_split': min_samples_split,\n",
    "               'min_samples_leaf': min_samples_leaf,\n",
    "               'bootstrap': bootstrap}\n",
    "\n",
    "# Use the random grid to search for best hyperparameters\n",
    "# First create the base model to tune\n",
    "rf = RandomForestClassifier()\n",
    "# Random search of parameters, using 3 fold cross validation, \n",
    "# search across 100 different combinations, and use all available cores\n",
    "rf_random = RandomizedSearchCV(estimator = rf, param_distributions = random_grid, n_iter = 100, cv = 3, verbose=2, random_state=42, n_jobs = -1)\n",
    "# Fit the random search model\n",
    "rf_random.fit(X_train_sm_sc, y_train_sm)\n"
   ]
  },
  {
   "cell_type": "code",
   "execution_count": null,
   "metadata": {},
   "outputs": [],
   "source": [
    "###################################################\n",
    "#     Get and show scores for random search       #\n",
    "###################################################\n",
    "best_random = rf_random.best_estimator_\n",
    "y_test_rfrand = best_random.predict(X_test_sc)\n",
    "\n",
    "# Base RandomForest Classifier \n",
    "print('Cross validation scores Base Forest:')\n",
    "print('-------------------------')\n",
    "print(\"F1-score: {:.2f}\".format(f1_score(y_test, y_test_rf)))\n",
    "print(\"MCC: {:.2f}\".format(matthews_corrcoef(y_test, y_test_rf)))\n",
    "\n",
    "# Random search RandomForest Classifier \n",
    "print('Cross validation scores Random search Random Forest:')\n",
    "print('-------------------------')\n",
    "print(\"F1-score: {:.2f}\".format(f1_score(y_test, y_test_rfrand)))\n",
    "print(\"MCC: {:.2f}\".format(matthews_corrcoef(y_test, y_test_rfrand)))"
   ]
  },
  {
   "cell_type": "code",
   "execution_count": null,
   "metadata": {},
   "outputs": [],
   "source": [
    "# best parameters random search\n",
    "rf_random.best_params_"
   ]
  },
  {
   "cell_type": "code",
   "execution_count": null,
   "metadata": {},
   "outputs": [],
   "source": [
    "###################################################\n",
    "#     Grid search for Random Forest Classifier    #\n",
    "###################################################\n",
    "\n",
    "# Create the parameter grid based on the results of random search \n",
    "param_grid = {\n",
    "    'bootstrap': [True, False],\n",
    "    'max_depth': [15, 20, 25],\n",
    "    'min_samples_split': [1, 2, 3, 4],\n",
    "    'n_estimators': [1700, 1800, 1900]\n",
    "}\n",
    "# Create a based model\n",
    "rf = RandomForestClassifier()\n",
    "# Instantiate the grid search model\n",
    "grid_search = GridSearchCV(estimator = rf, param_grid = param_grid, \n",
    "                          cv = 3, n_jobs = -1, verbose = 2)\n",
    "\n",
    "grid_search.fit(X_train_sm_sc, y_train_sm)\n"
   ]
  },
  {
   "cell_type": "code",
   "execution_count": null,
   "metadata": {},
   "outputs": [],
   "source": [
    "###################################################\n",
    "#     Get and show scores for grid search       #\n",
    "###################################################\n",
    "best_grid = grid_search.best_estimator_\n",
    "y_test_rfgrid = best_grid.predict(X_test_sc)\n",
    "\n",
    "# Base RandomForest Classifier \n",
    "print('Cross validation scores Base Forest:')\n",
    "print('-------------------------')\n",
    "print(\"F1-score: {:.2f}\".format(f1_score(y_test, y_test_rf)))\n",
    "print(\"MCC: {:.2f}\".format(matthews_corrcoef(y_test, y_test_rf)))\n",
    "\n",
    "# Random search Random Forest Classifier \n",
    "print('Cross validation scores Random search Random Forest:')\n",
    "print('-------------------------')\n",
    "print(\"F1-score: {:.2f}\".format(f1_score(y_test, y_test_rfrand)))\n",
    "print(\"MCC: {:.2f}\".format(matthews_corrcoef(y_test, y_test_rfrand)))\n",
    "\n",
    "# Grid search Random Forest Classifier \n",
    "print('Cross validation scores Grid search Random Forest:')\n",
    "print('-------------------------')\n",
    "print(\"F1-score: {:.2f}\".format(f1_score(y_test, y_test_rfgrid)))\n",
    "print(\"MCC: {:.2f}\".format(matthews_corrcoef(y_test, y_test_rfgrid)))\n",
    "\n",
    "print('Best parameters random search:')\n",
    "print('-------------------------')\n",
    "print(rf_random.best_params_)\n",
    "\n",
    "print('Best parameters grid search:')\n",
    "print('-------------------------')\n",
    "print(grid_search.best_params_)\n",
    "\n"
   ]
  },
  {
   "cell_type": "markdown",
   "metadata": {},
   "source": [
    "A warning message from grid search (was it produced during random search, too?).\n",
    ">54 fits failed out of a total of 216.\n",
    "The score on these train-test partitions for these parameters will be set to nan.\n",
    "If these failures are not expected, you can try to debug them by setting error_score='raise'.\n"
   ]
  }
 ],
 "metadata": {
  "kernelspec": {
   "display_name": "Python 3.9.8 ('.venv': venv)",
   "language": "python",
   "name": "python3"
  },
  "language_info": {
   "codemirror_mode": {
    "name": "ipython",
    "version": 3
   },
   "file_extension": ".py",
   "mimetype": "text/x-python",
   "name": "python",
   "nbconvert_exporter": "python",
   "pygments_lexer": "ipython3",
   "version": "3.9.8"
  },
  "orig_nbformat": 4,
  "vscode": {
   "interpreter": {
    "hash": "8721f829b62e76f494600e5849ab226a0bc266f8f100abf162fe8bebd2c0448f"
   }
  }
 },
 "nbformat": 4,
 "nbformat_minor": 2
}
