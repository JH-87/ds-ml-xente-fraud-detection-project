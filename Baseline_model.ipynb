{
 "cells": [
  {
   "cell_type": "code",
   "execution_count": null,
   "metadata": {},
   "outputs": [],
   "source": [
    "import pandas as pd\n",
    "import numpy as np\n",
    "import seaborn as sns\n",
    "import matplotlib.pyplot as plt \n",
    "%matplotlib inline \n",
    "from sklearn.model_selection import train_test_split\n",
    "from sklearn.metrics import classification_report, confusion_matrix\n",
    "from imblearn.over_sampling import SMOTE\n"
   ]
  },
  {
   "cell_type": "code",
   "execution_count": null,
   "metadata": {},
   "outputs": [],
   "source": [
    "# Load data\n",
    "df = pd.read_csv('data/xente/training.csv', parse_dates=['TransactionStartTime'], \n",
    "dtype={'ProductId': 'category','ProductCategory': 'category','ChannelId': 'category','PricingStrategy': 'category'}, \n",
    "index_col='TransactionId').drop(['CountryCode', 'CurrencyCode'], axis=1)"
   ]
  },
  {
   "cell_type": "code",
   "execution_count": null,
   "metadata": {},
   "outputs": [],
   "source": [
    "\n",
    "## Building baseline model using Naive Bayes with Value, ChannelId and time\n",
    "\n",
    "# Get time from date time\n",
    "# in number of seconds since midnight, because Bayes cannot deal with a time object\n",
    "time = df[\"TransactionStartTime\"].dt.second + df[\"TransactionStartTime\"].dt.minute * 60 + df[\"TransactionStartTime\"].dt.hour * 3600\n",
    "\n",
    "# Get X_train and y_train\n",
    "X = df[[\"Value\", \"ChannelId\"]]\n",
    "# get dummies from ChannelID column\n",
    "X[\"ChannelId\"] = X[\"ChannelId\"].str.replace(\"ChannelId_\", \"\").astype(\"int\")\n",
    "X[\"time\"] = time\n",
    "y = df[\"FraudResult\"]\n",
    "\n",
    "# is the default test set size good for such an imbalanced dataset?\n",
    "X_train, X_test, y_train, y_test = train_test_split(X, y, stratify=y, random_state=42)\n",
    "\n",
    "# implement smote\n",
    "sm = SMOTE(random_state=42)\n",
    "X_train, y_train = sm.fit_resample(X_train, y_train)\n",
    "\n",
    "# initiate model\n",
    "from sklearn.naive_bayes import GaussianNB\n",
    "nb_clf = GaussianNB()\n",
    "\n",
    "# fit model\n",
    "nb_clf.fit(X_train, y_train)\n",
    "\n",
    "# predict\n",
    "y_pred_base = nb_clf.predict(X_test)\n",
    "\n",
    "print(classification_report(y_test, y_pred_base))\n",
    "\n",
    "# TODO: Scaling and transformation where necessary\n",
    "# TODO: prettify output \n",
    "# TODO: Write this into a function\n",
    "# tomorrow: tweak metric (inconvenience score?)\n"
   ]
  },
  {
   "cell_type": "code",
   "execution_count": null,
   "metadata": {},
   "outputs": [],
   "source": [
    "confusion_matrix(y_test, y_pred_base)\n"
   ]
  }
 ],
 "metadata": {
  "kernelspec": {
   "display_name": "Python 3.9.8 ('.venv': venv)",
   "language": "python",
   "name": "python3"
  },
  "language_info": {
   "codemirror_mode": {
    "name": "ipython",
    "version": 3
   },
   "file_extension": ".py",
   "mimetype": "text/x-python",
   "name": "python",
   "nbconvert_exporter": "python",
   "pygments_lexer": "ipython3",
   "version": "3.9.8"
  },
  "orig_nbformat": 4,
  "vscode": {
   "interpreter": {
    "hash": "8721f829b62e76f494600e5849ab226a0bc266f8f100abf162fe8bebd2c0448f"
   }
  }
 },
 "nbformat": 4,
 "nbformat_minor": 2
}
