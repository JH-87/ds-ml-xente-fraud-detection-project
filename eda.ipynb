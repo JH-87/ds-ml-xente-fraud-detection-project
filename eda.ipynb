{
 "cells": [
  {
   "cell_type": "code",
   "execution_count": null,
   "metadata": {},
   "outputs": [],
   "source": [
    "import pandas as pd\n",
    "import numpy as np\n",
    "import seaborn as sns\n",
    "import matplotlib.pyplot as plt \n",
    "%matplotlib inline \n",
    "from datetime import datetime, date\n",
    "from pandas_profiling import ProfileReport\n",
    "from sklearn.preprocessing import LabelEncoder"
   ]
  },
  {
   "cell_type": "code",
   "execution_count": null,
   "metadata": {},
   "outputs": [],
   "source": [
    "#df import with some alterations we discovered so far\n",
    "df = pd.read_csv('data/xente/training.csv', parse_dates=['TransactionStartTime'], dtype={'ProductId': 'category','ProductCategory': 'category','ChannelId': 'category','PricingStrategy': 'category'}, index_col='TransactionId').drop(['CountryCode', 'CurrencyCode'], axis=1)"
   ]
  },
  {
   "cell_type": "code",
   "execution_count": null,
   "metadata": {},
   "outputs": [],
   "source": [
    "df_var = pd.read_csv('data/xente/Xente_variable_Definitions.csv')"
   ]
  },
  {
   "cell_type": "code",
   "execution_count": null,
   "metadata": {},
   "outputs": [],
   "source": [
    "df.info()"
   ]
  },
  {
   "cell_type": "code",
   "execution_count": null,
   "metadata": {},
   "outputs": [],
   "source": [
    "df.head(5)"
   ]
  },
  {
   "cell_type": "code",
   "execution_count": null,
   "metadata": {},
   "outputs": [],
   "source": [
    "df.shape"
   ]
  },
  {
   "cell_type": "markdown",
   "metadata": {},
   "source": [
    "### General observations of the dataframe"
   ]
  },
  {
   "cell_type": "code",
   "execution_count": null,
   "metadata": {},
   "outputs": [],
   "source": [
    "#set TransactionId as index, as label \n",
    "#set as categorical ProductId, ProductCategory, ChannelId\n",
    "#ChannelId could be interesting \n",
    "#Investigate Amount / Value --> why is Value different sometimes\n",
    "#Investigate & transform TransactionStartTime\n",
    "#Random Forrest?\n",
    "#convert datatypes if we deem necessary especially 'CountryCode' "
   ]
  },
  {
   "cell_type": "code",
   "execution_count": null,
   "metadata": {},
   "outputs": [],
   "source": [
    "#pairplot of our precleaned df\n",
    "\n",
    "sns.pairplot(df)"
   ]
  },
  {
   "cell_type": "code",
   "execution_count": null,
   "metadata": {},
   "outputs": [],
   "source": [
    "# our dataset is highly imbalanced --> todo: decide on how we want to address this  --> SMOTE\n",
    "# possibly use Amount as predictor for basemodel --> might ignore large amount of small fraudulent transactions though"
   ]
  },
  {
   "cell_type": "code",
   "execution_count": null,
   "metadata": {},
   "outputs": [],
   "source": [
    "\n",
    "#Fraud Detection: (?)\n",
    "\n",
    "#Value of Product: (?)\n",
    "\n",
    "#Goal : Find fraudulent transactions, save money, avoid reputation damage and prevent money laundering.\n",
    "\n",
    "#Prediction: 'Transaction is fraudulent'\n",
    "#How to handle the imbalanced dataset: SMOTE\n",
    "\n",
    "#Evaluation Metric:\n",
    "# f1-score (recommended and given by Zindi)\n",
    "# Matthew Coefficient Correlation Score\n",
    "# AUC - Precision-Recall Curve\n",
    "\n",
    "#Baseline Model: (tbd)\n",
    "\n",
    "#Score:\n",
    "# f1-score = 0.1\n",
    "# Matthew Coefficient Correlation Score = (tbd)\n",
    "# AUC - Precision-Recall Curve = (tbd)\n",
    "\n",
    "\n",
    "# ridge, lasso & elasticnet "
   ]
  },
  {
   "cell_type": "markdown",
   "metadata": {},
   "source": [
    "### We checked the unique values of different columns "
   ]
  },
  {
   "cell_type": "code",
   "execution_count": null,
   "metadata": {},
   "outputs": [],
   "source": [
    "df['BatchId'].unique()"
   ]
  },
  {
   "cell_type": "code",
   "execution_count": null,
   "metadata": {},
   "outputs": [],
   "source": [
    "df['AccountId'].unique()"
   ]
  },
  {
   "cell_type": "code",
   "execution_count": null,
   "metadata": {},
   "outputs": [],
   "source": [
    "df['SubscriptionId'].unique()"
   ]
  },
  {
   "cell_type": "code",
   "execution_count": null,
   "metadata": {},
   "outputs": [],
   "source": [
    "#df['CurrencyCode'].unique()"
   ]
  },
  {
   "cell_type": "code",
   "execution_count": null,
   "metadata": {},
   "outputs": [],
   "source": [
    "#only '256' --> Uganda --> no added Information --> drop this \n",
    "#df['CountryCode'].unique()"
   ]
  },
  {
   "cell_type": "code",
   "execution_count": null,
   "metadata": {},
   "outputs": [],
   "source": [
    "#keep this for now \n",
    "df['ProductCategory'].unique()"
   ]
  },
  {
   "cell_type": "markdown",
   "metadata": {},
   "source": [
    "### Groupby of to identify patterns in fraudulent transactions "
   ]
  },
  {
   "cell_type": "code",
   "execution_count": null,
   "metadata": {},
   "outputs": [],
   "source": [
    "df.groupby(['ProductCategory', 'FraudResult'])['FraudResult'].count()"
   ]
  },
  {
   "cell_type": "code",
   "execution_count": null,
   "metadata": {},
   "outputs": [],
   "source": [
    "df.groupby('FraudResult')['FraudResult'].count()"
   ]
  },
  {
   "cell_type": "markdown",
   "metadata": {},
   "source": [
    "### Adressing the TransactionStartTime - Column"
   ]
  },
  {
   "cell_type": "code",
   "execution_count": null,
   "metadata": {},
   "outputs": [],
   "source": [
    "#extracting the year as a new column\n",
    "df['year'] = df['TransactionStartTime'].dt.year"
   ]
  },
  {
   "cell_type": "code",
   "execution_count": null,
   "metadata": {},
   "outputs": [],
   "source": [
    "#extracting the month as a new column\n",
    "df['month'] = df['TransactionStartTime'].dt.month"
   ]
  },
  {
   "cell_type": "code",
   "execution_count": null,
   "metadata": {},
   "outputs": [],
   "source": [
    "#extracting the date as a new column\n",
    "df['TransactionStartTime_Date'] = df['TransactionStartTime'].dt.strftime('%Y-%m-%d')"
   ]
  },
  {
   "cell_type": "code",
   "execution_count": null,
   "metadata": {},
   "outputs": [],
   "source": [
    "#extracting the starttime of the transaction \n",
    "df['TransactionStartTime_Time'] = df['TransactionStartTime'].dt.strftime('%H:%M:%S')"
   ]
  },
  {
   "cell_type": "code",
   "execution_count": null,
   "metadata": {},
   "outputs": [],
   "source": [
    "df['TransactionStartTime_Date'] = pd.to_datetime(df['TransactionStartTime_Date'], format='%Y-%m-%d')"
   ]
  },
  {
   "cell_type": "code",
   "execution_count": null,
   "metadata": {},
   "outputs": [],
   "source": [
    "df['TransactionStartTime_Time'] = pd.to_datetime(df['TransactionStartTime_Time'], format='%H:%M:%S').dt.time\n",
    "#we need to rework the code on this to convert it to datetime "
   ]
  },
  {
   "cell_type": "code",
   "execution_count": null,
   "metadata": {},
   "outputs": [],
   "source": [
    "#engeneering the Weekday of the given transaction as a new column\n",
    "df['weekday'] = df['TransactionStartTime_Date'].apply((lambda x: pd.Timestamp(x).day_of_week))"
   ]
  },
  {
   "cell_type": "code",
   "execution_count": null,
   "metadata": {},
   "outputs": [],
   "source": [
    "df['weekday'].unique()"
   ]
  },
  {
   "cell_type": "code",
   "execution_count": null,
   "metadata": {},
   "outputs": [],
   "source": [
    "df.query('weekday == 0')\n",
    "#  2018-11-19 was a monday --> classified as 0\n",
    "#  2019-02-11 was a monday as well --> classified as 0"
   ]
  },
  {
   "cell_type": "code",
   "execution_count": null,
   "metadata": {},
   "outputs": [],
   "source": [
    "df.query('weekday == 6')\n",
    "# 0 --> Monday\n",
    "# 1 --> Tuesday\n",
    "# 2 --> Wednesday\n",
    "# 3 --> Thursday\n",
    "# 4 --> Friday\n",
    "# 5 --> Saturday\n",
    "# 6 --> Sunday"
   ]
  },
  {
   "cell_type": "code",
   "execution_count": null,
   "metadata": {},
   "outputs": [],
   "source": [
    "# How many frauds were committed during each weekday?\n",
    "df.groupby(['weekday', 'FraudResult'])['FraudResult'].count()"
   ]
  },
  {
   "cell_type": "code",
   "execution_count": null,
   "metadata": {},
   "outputs": [],
   "source": [
    "# dropping the original 'TransactionStartTime' column\n",
    "df.drop('TransactionStartTime', axis=1, inplace=True)"
   ]
  },
  {
   "cell_type": "code",
   "execution_count": null,
   "metadata": {},
   "outputs": [],
   "source": [
    "#renaming the date and time column\n",
    "df.rename(columns={'TransactionStartTime_Date': 'date', \"TransactionStartTime_Time\": 'time'}, inplace=True)"
   ]
  },
  {
   "cell_type": "code",
   "execution_count": null,
   "metadata": {},
   "outputs": [],
   "source": [
    "df.head()"
   ]
  },
  {
   "cell_type": "code",
   "execution_count": null,
   "metadata": {},
   "outputs": [],
   "source": []
  },
  {
   "cell_type": "markdown",
   "metadata": {},
   "source": [
    "### EDA on BatchId, AccountId, SubscriptionId, CustomerId, ProviderId, ProductId\t"
   ]
  },
  {
   "cell_type": "code",
   "execution_count": null,
   "metadata": {},
   "outputs": [],
   "source": [
    "df['BatchId'].value_counts().head(10)"
   ]
  },
  {
   "cell_type": "code",
   "execution_count": null,
   "metadata": {},
   "outputs": [],
   "source": [
    "df.query('FraudResult == 1').value_counts(['BatchId']).head(10)"
   ]
  },
  {
   "cell_type": "code",
   "execution_count": null,
   "metadata": {},
   "outputs": [],
   "source": [
    "df.query('FraudResult == 1').value_counts(['CustomerId']).head(10)"
   ]
  },
  {
   "cell_type": "code",
   "execution_count": null,
   "metadata": {},
   "outputs": [],
   "source": [
    "df.query('FraudResult == 1').value_counts(['AccountId']).head(10)\n",
    "#looks similiar, but one customer could have more than one Account"
   ]
  },
  {
   "cell_type": "code",
   "execution_count": null,
   "metadata": {},
   "outputs": [],
   "source": [
    "\n",
    "df.query('FraudResult == 1').value_counts(['SubscriptionId']).head(10)"
   ]
  },
  {
   "cell_type": "code",
   "execution_count": null,
   "metadata": {},
   "outputs": [],
   "source": [
    "\n",
    "df.query('FraudResult == 1').value_counts(['ProviderId']).head(10)"
   ]
  },
  {
   "cell_type": "code",
   "execution_count": null,
   "metadata": {},
   "outputs": [],
   "source": [
    "\n",
    "df.query('FraudResult == 1').value_counts(['ProductId']).head(10)"
   ]
  },
  {
   "cell_type": "code",
   "execution_count": null,
   "metadata": {},
   "outputs": [],
   "source": [
    "df.groupby(['ProductId', 'FraudResult'])['FraudResult'].count().sort_values()"
   ]
  },
  {
   "cell_type": "markdown",
   "metadata": {},
   "source": [
    "### PyPi DataFrame Report"
   ]
  },
  {
   "cell_type": "code",
   "execution_count": null,
   "metadata": {},
   "outputs": [],
   "source": [
    "df.profile_report()"
   ]
  },
  {
   "cell_type": "markdown",
   "metadata": {},
   "source": [
    "### EDA - striping strings from categorical values and label encode them "
   ]
  },
  {
   "cell_type": "code",
   "execution_count": null,
   "metadata": {},
   "outputs": [],
   "source": [
    "df"
   ]
  },
  {
   "cell_type": "code",
   "execution_count": null,
   "metadata": {},
   "outputs": [],
   "source": [
    "data = df.copy()"
   ]
  },
  {
   "cell_type": "code",
   "execution_count": null,
   "metadata": {},
   "outputs": [],
   "source": [
    "# 0 = 'airtime' \n",
    "# 1 = 'data_bundles' \n",
    "# 2 = 'financial_services' \n",
    "# 3 = 'movies', \n",
    "# 4 = 'other'\n",
    "# 5 = 'ticket', \n",
    "# 6 = 'transport', \n",
    "# 7 = 'tv', \n",
    "# 8 = 'utility_bill' \n",
    "\n",
    "target_label = 'ProductCategory'\n",
    "le = LabelEncoder()\n",
    "le.fit(df[target_label])\n",
    "df['Product_new'] = le.transform(df[target_label])\n",
    "df.groupby('ProductCategory')['Product_new'].mean()\n",
    "df.to_csv('data/xente/Product_categories_keys.csv')"
   ]
  },
  {
   "cell_type": "code",
   "execution_count": null,
   "metadata": {},
   "outputs": [],
   "source": [
    "# The idea is to strip away the strings from all ID columns\n",
    "# BatchId\tAccountId\tSubscriptionId\tCustomerId\tProviderId\tProductId\tChannelId\n",
    "# Example: ChannelID_123 -> 123\n",
    "# Scaling?"
   ]
  },
  {
   "cell_type": "code",
   "execution_count": null,
   "metadata": {},
   "outputs": [],
   "source": []
  }
 ],
 "metadata": {
  "kernelspec": {
   "display_name": "Python 3.9.8 ('.venv': venv)",
   "language": "python",
   "name": "python3"
  },
  "language_info": {
   "codemirror_mode": {
    "name": "ipython",
    "version": 3
   },
   "file_extension": ".py",
   "mimetype": "text/x-python",
   "name": "python",
   "nbconvert_exporter": "python",
   "pygments_lexer": "ipython3",
   "version": "3.9.8"
  },
  "orig_nbformat": 4,
  "vscode": {
   "interpreter": {
    "hash": "6972c4774b4bf97dc21a28d24f42ebefea7b0c01950b88712430c3ae2173aa7e"
   }
  }
 },
 "nbformat": 4,
 "nbformat_minor": 2
}
