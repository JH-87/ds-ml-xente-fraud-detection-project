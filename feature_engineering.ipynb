{
 "cells": [
  {
   "cell_type": "code",
   "execution_count": 1,
   "metadata": {},
   "outputs": [],
   "source": [
    "import pandas as pd\n",
    "import numpy as np\n",
    "from sklearn.model_selection import train_test_split\n",
    "from imblearn.over_sampling import SMOTE\n",
    "\n",
    "from sklearn.pipeline import Pipeline\n",
    "from sklearn.preprocessing import OneHotEncoder, StandardScaler\n",
    "from sklearn.impute import SimpleImputer\n",
    "from sklearn.compose import ColumnTransformer\n",
    "from sklearn.linear_model import LogisticRegression\n",
    "from sklearn.model_selection import cross_val_predict, cross_val_score, cross_validate\n",
    "from sklearn.metrics import confusion_matrix, accuracy_score, recall_score, f1_score\n",
    "RSEED=42"
   ]
  },
  {
   "cell_type": "code",
   "execution_count": 2,
   "metadata": {},
   "outputs": [],
   "source": [
    "# Load data\n",
    "df = pd.read_csv('data/xente/training.csv', parse_dates=['TransactionStartTime'], \n",
    "index_col='TransactionId').drop(['CountryCode', 'CurrencyCode'], axis=1)\n",
    "\n",
    "# create time of day column in number of seconds since midnight\n",
    "df[\"time_of_day\"] = df[\"TransactionStartTime\"].dt.second + df[\"TransactionStartTime\"].dt.minute * 60 + df[\"TransactionStartTime\"].dt.hour * 3600"
   ]
  },
  {
   "cell_type": "code",
   "execution_count": 24,
   "metadata": {},
   "outputs": [
    {
     "name": "stderr",
     "output_type": "stream",
     "text": [
      "/var/folders/jq/n1sfhk3x081brcshwchpd9640000gn/T/ipykernel_2066/415988640.py:3: SettingWithCopyWarning: \n",
      "A value is trying to be set on a copy of a slice from a DataFrame\n",
      "\n",
      "See the caveats in the documentation: https://pandas.pydata.org/pandas-docs/stable/user_guide/indexing.html#returning-a-view-versus-a-copy\n",
      "  df['InOut'][df['Amount'] < 0 ] = 0\n",
      "/var/folders/jq/n1sfhk3x081brcshwchpd9640000gn/T/ipykernel_2066/415988640.py:4: SettingWithCopyWarning: \n",
      "A value is trying to be set on a copy of a slice from a DataFrame\n",
      "\n",
      "See the caveats in the documentation: https://pandas.pydata.org/pandas-docs/stable/user_guide/indexing.html#returning-a-view-versus-a-copy\n",
      "  df['InOut'][df['Amount'] >=0 ] = 1\n",
      "/var/folders/jq/n1sfhk3x081brcshwchpd9640000gn/T/ipykernel_2066/415988640.py:8: SettingWithCopyWarning: \n",
      "A value is trying to be set on a copy of a slice from a DataFrame\n",
      "\n",
      "See the caveats in the documentation: https://pandas.pydata.org/pandas-docs/stable/user_guide/indexing.html#returning-a-view-versus-a-copy\n",
      "  df['difference'][df['difference'] != 0] = 1\n"
     ]
    }
   ],
   "source": [
    "# create column with 0 for negative values in \"Amount\" and 1 for positive values\n",
    "df['InOut'] = df['Amount']\n",
    "df['InOut'][df['Amount'] < 0 ] = 0\n",
    "df['InOut'][df['Amount'] >=0 ] = 1\n",
    "\n",
    "# create a column which is 0 if abs(\"Amount\")==\"Value\" and 1 if not\n",
    "df['difference'] = df.eval(\"abs(Amount) - Value\")\n",
    "df['difference'][df['difference'] != 0] = 1\n",
    "\n",
    "# create weekday column\n",
    "df['weekday'] = df['TransactionStartTime'].dt.dayofweek\n"
   ]
  }
 ],
 "metadata": {
  "kernelspec": {
   "display_name": "Python 3.9.8 ('.venv': venv)",
   "language": "python",
   "name": "python3"
  },
  "language_info": {
   "codemirror_mode": {
    "name": "ipython",
    "version": 3
   },
   "file_extension": ".py",
   "mimetype": "text/x-python",
   "name": "python",
   "nbconvert_exporter": "python",
   "pygments_lexer": "ipython3",
   "version": "3.9.8"
  },
  "orig_nbformat": 4,
  "vscode": {
   "interpreter": {
    "hash": "8721f829b62e76f494600e5849ab226a0bc266f8f100abf162fe8bebd2c0448f"
   }
  }
 },
 "nbformat": 4,
 "nbformat_minor": 2
}
