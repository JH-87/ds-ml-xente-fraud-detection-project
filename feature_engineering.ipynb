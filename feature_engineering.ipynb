{
 "cells": [
  {
   "cell_type": "code",
   "execution_count": 18,
   "metadata": {},
   "outputs": [],
   "source": [
    "# preprocess functions\n",
    "from basic_functions import cust_dummies, custom_preprocess\n",
    "from basic_functions import get_data_from_csv, feature_engineering, tts_custom, custom_smote\n",
    "from basic_functions import custom_logreg, custom_knn, custom_nb, custom_svc, custom_rf, custom_stack\n",
    "# for some reason the other functions won't load\n",
    "from sklearn.metrics import confusion_matrix\n"
   ]
  },
  {
   "cell_type": "code",
   "execution_count": 19,
   "metadata": {},
   "outputs": [
    {
     "name": "stderr",
     "output_type": "stream",
     "text": [
      "/Users/burkhardtflemer/Desktop/neuefische/ds-ml-xente-fraud-detection-project/basic_functions.py:38: SettingWithCopyWarning: \n",
      "A value is trying to be set on a copy of a slice from a DataFrame\n",
      "\n",
      "See the caveats in the documentation: https://pandas.pydata.org/pandas-docs/stable/user_guide/indexing.html#returning-a-view-versus-a-copy\n",
      "  dataframe['InOut'][dataframe['Amount'] < 0 ] = 1\n",
      "/Users/burkhardtflemer/Desktop/neuefische/ds-ml-xente-fraud-detection-project/basic_functions.py:39: SettingWithCopyWarning: \n",
      "A value is trying to be set on a copy of a slice from a DataFrame\n",
      "\n",
      "See the caveats in the documentation: https://pandas.pydata.org/pandas-docs/stable/user_guide/indexing.html#returning-a-view-versus-a-copy\n",
      "  dataframe['InOut'][dataframe['Amount'] >=0 ] = 0\n",
      "/Users/burkhardtflemer/Desktop/neuefische/ds-ml-xente-fraud-detection-project/basic_functions.py:43: SettingWithCopyWarning: \n",
      "A value is trying to be set on a copy of a slice from a DataFrame\n",
      "\n",
      "See the caveats in the documentation: https://pandas.pydata.org/pandas-docs/stable/user_guide/indexing.html#returning-a-view-versus-a-copy\n",
      "  dataframe['difference'][dataframe['difference'] != 0] = 1\n"
     ]
    }
   ],
   "source": [
    "df = get_data_from_csv()\n",
    "df = feature_engineering(df)"
   ]
  },
  {
   "cell_type": "code",
   "execution_count": 20,
   "metadata": {},
   "outputs": [
    {
     "data": {
      "text/html": [
       "<div>\n",
       "<style scoped>\n",
       "    .dataframe tbody tr th:only-of-type {\n",
       "        vertical-align: middle;\n",
       "    }\n",
       "\n",
       "    .dataframe tbody tr th {\n",
       "        vertical-align: top;\n",
       "    }\n",
       "\n",
       "    .dataframe thead th {\n",
       "        text-align: right;\n",
       "    }\n",
       "</style>\n",
       "<table border=\"1\" class=\"dataframe\">\n",
       "  <thead>\n",
       "    <tr style=\"text-align: right;\">\n",
       "      <th></th>\n",
       "      <th>ProviderId</th>\n",
       "      <th>ProductCategory</th>\n",
       "      <th>ChannelId</th>\n",
       "      <th>Value</th>\n",
       "      <th>PricingStrategy</th>\n",
       "      <th>FraudResult</th>\n",
       "      <th>InOut</th>\n",
       "      <th>difference</th>\n",
       "      <th>weekday</th>\n",
       "      <th>time_of_day</th>\n",
       "    </tr>\n",
       "    <tr>\n",
       "      <th>TransactionId</th>\n",
       "      <th></th>\n",
       "      <th></th>\n",
       "      <th></th>\n",
       "      <th></th>\n",
       "      <th></th>\n",
       "      <th></th>\n",
       "      <th></th>\n",
       "      <th></th>\n",
       "      <th></th>\n",
       "      <th></th>\n",
       "    </tr>\n",
       "  </thead>\n",
       "  <tbody>\n",
       "    <tr>\n",
       "      <th>TransactionId_76871</th>\n",
       "      <td>6</td>\n",
       "      <td>airtime</td>\n",
       "      <td>3</td>\n",
       "      <td>1000</td>\n",
       "      <td>2</td>\n",
       "      <td>0</td>\n",
       "      <td>0.0</td>\n",
       "      <td>0.0</td>\n",
       "      <td>3</td>\n",
       "      <td>8329</td>\n",
       "    </tr>\n",
       "    <tr>\n",
       "      <th>TransactionId_73770</th>\n",
       "      <td>4</td>\n",
       "      <td>financial_services</td>\n",
       "      <td>2</td>\n",
       "      <td>20</td>\n",
       "      <td>2</td>\n",
       "      <td>0</td>\n",
       "      <td>1.0</td>\n",
       "      <td>0.0</td>\n",
       "      <td>3</td>\n",
       "      <td>8348</td>\n",
       "    </tr>\n",
       "    <tr>\n",
       "      <th>TransactionId_26203</th>\n",
       "      <td>6</td>\n",
       "      <td>airtime</td>\n",
       "      <td>3</td>\n",
       "      <td>500</td>\n",
       "      <td>2</td>\n",
       "      <td>0</td>\n",
       "      <td>0.0</td>\n",
       "      <td>0.0</td>\n",
       "      <td>3</td>\n",
       "      <td>9861</td>\n",
       "    </tr>\n",
       "    <tr>\n",
       "      <th>TransactionId_380</th>\n",
       "      <td>1</td>\n",
       "      <td>utility_bill</td>\n",
       "      <td>3</td>\n",
       "      <td>21800</td>\n",
       "      <td>2</td>\n",
       "      <td>0</td>\n",
       "      <td>0.0</td>\n",
       "      <td>1.0</td>\n",
       "      <td>3</td>\n",
       "      <td>12775</td>\n",
       "    </tr>\n",
       "    <tr>\n",
       "      <th>TransactionId_28195</th>\n",
       "      <td>4</td>\n",
       "      <td>financial_services</td>\n",
       "      <td>2</td>\n",
       "      <td>644</td>\n",
       "      <td>2</td>\n",
       "      <td>0</td>\n",
       "      <td>1.0</td>\n",
       "      <td>0.0</td>\n",
       "      <td>3</td>\n",
       "      <td>12861</td>\n",
       "    </tr>\n",
       "  </tbody>\n",
       "</table>\n",
       "</div>"
      ],
      "text/plain": [
       "                    ProviderId     ProductCategory ChannelId  Value  \\\n",
       "TransactionId                                                         \n",
       "TransactionId_76871          6             airtime         3   1000   \n",
       "TransactionId_73770          4  financial_services         2     20   \n",
       "TransactionId_26203          6             airtime         3    500   \n",
       "TransactionId_380            1        utility_bill         3  21800   \n",
       "TransactionId_28195          4  financial_services         2    644   \n",
       "\n",
       "                    PricingStrategy  FraudResult  InOut  difference weekday  \\\n",
       "TransactionId                                                                 \n",
       "TransactionId_76871               2            0    0.0         0.0       3   \n",
       "TransactionId_73770               2            0    1.0         0.0       3   \n",
       "TransactionId_26203               2            0    0.0         0.0       3   \n",
       "TransactionId_380                 2            0    0.0         1.0       3   \n",
       "TransactionId_28195               2            0    1.0         0.0       3   \n",
       "\n",
       "                     time_of_day  \n",
       "TransactionId                     \n",
       "TransactionId_76871         8329  \n",
       "TransactionId_73770         8348  \n",
       "TransactionId_26203         9861  \n",
       "TransactionId_380          12775  \n",
       "TransactionId_28195        12861  "
      ]
     },
     "execution_count": 20,
     "metadata": {},
     "output_type": "execute_result"
    }
   ],
   "source": [
    "df.head()"
   ]
  },
  {
   "cell_type": "code",
   "execution_count": 21,
   "metadata": {},
   "outputs": [],
   "source": [
    "X_train, X_test, y_train, y_test = tts_custom(df, RSEED = 42)"
   ]
  },
  {
   "cell_type": "code",
   "execution_count": 22,
   "metadata": {},
   "outputs": [
    {
     "data": {
      "text/html": [
       "<div>\n",
       "<style scoped>\n",
       "    .dataframe tbody tr th:only-of-type {\n",
       "        vertical-align: middle;\n",
       "    }\n",
       "\n",
       "    .dataframe tbody tr th {\n",
       "        vertical-align: top;\n",
       "    }\n",
       "\n",
       "    .dataframe thead th {\n",
       "        text-align: right;\n",
       "    }\n",
       "</style>\n",
       "<table border=\"1\" class=\"dataframe\">\n",
       "  <thead>\n",
       "    <tr style=\"text-align: right;\">\n",
       "      <th></th>\n",
       "      <th>ProviderId</th>\n",
       "      <th>ProductCategory</th>\n",
       "      <th>ChannelId</th>\n",
       "      <th>Value</th>\n",
       "      <th>PricingStrategy</th>\n",
       "      <th>InOut</th>\n",
       "      <th>difference</th>\n",
       "      <th>weekday</th>\n",
       "      <th>time_of_day</th>\n",
       "    </tr>\n",
       "    <tr>\n",
       "      <th>TransactionId</th>\n",
       "      <th></th>\n",
       "      <th></th>\n",
       "      <th></th>\n",
       "      <th></th>\n",
       "      <th></th>\n",
       "      <th></th>\n",
       "      <th></th>\n",
       "      <th></th>\n",
       "      <th></th>\n",
       "    </tr>\n",
       "  </thead>\n",
       "  <tbody>\n",
       "    <tr>\n",
       "      <th>TransactionId_15258</th>\n",
       "      <td>4</td>\n",
       "      <td>airtime</td>\n",
       "      <td>5</td>\n",
       "      <td>1000</td>\n",
       "      <td>4</td>\n",
       "      <td>1.0</td>\n",
       "      <td>0.0</td>\n",
       "      <td>1</td>\n",
       "      <td>23080</td>\n",
       "    </tr>\n",
       "    <tr>\n",
       "      <th>TransactionId_36687</th>\n",
       "      <td>5</td>\n",
       "      <td>utility_bill</td>\n",
       "      <td>3</td>\n",
       "      <td>30441</td>\n",
       "      <td>2</td>\n",
       "      <td>0.0</td>\n",
       "      <td>1.0</td>\n",
       "      <td>4</td>\n",
       "      <td>28721</td>\n",
       "    </tr>\n",
       "    <tr>\n",
       "      <th>TransactionId_113440</th>\n",
       "      <td>4</td>\n",
       "      <td>financial_services</td>\n",
       "      <td>2</td>\n",
       "      <td>55</td>\n",
       "      <td>2</td>\n",
       "      <td>1.0</td>\n",
       "      <td>0.0</td>\n",
       "      <td>4</td>\n",
       "      <td>71746</td>\n",
       "    </tr>\n",
       "    <tr>\n",
       "      <th>TransactionId_3892</th>\n",
       "      <td>6</td>\n",
       "      <td>airtime</td>\n",
       "      <td>3</td>\n",
       "      <td>1000</td>\n",
       "      <td>2</td>\n",
       "      <td>0.0</td>\n",
       "      <td>0.0</td>\n",
       "      <td>2</td>\n",
       "      <td>54626</td>\n",
       "    </tr>\n",
       "    <tr>\n",
       "      <th>TransactionId_66712</th>\n",
       "      <td>5</td>\n",
       "      <td>financial_services</td>\n",
       "      <td>3</td>\n",
       "      <td>10000</td>\n",
       "      <td>2</td>\n",
       "      <td>0.0</td>\n",
       "      <td>0.0</td>\n",
       "      <td>3</td>\n",
       "      <td>61173</td>\n",
       "    </tr>\n",
       "  </tbody>\n",
       "</table>\n",
       "</div>"
      ],
      "text/plain": [
       "                     ProviderId     ProductCategory ChannelId  Value  \\\n",
       "TransactionId                                                          \n",
       "TransactionId_15258           4             airtime         5   1000   \n",
       "TransactionId_36687           5        utility_bill         3  30441   \n",
       "TransactionId_113440          4  financial_services         2     55   \n",
       "TransactionId_3892            6             airtime         3   1000   \n",
       "TransactionId_66712           5  financial_services         3  10000   \n",
       "\n",
       "                     PricingStrategy  InOut  difference weekday  time_of_day  \n",
       "TransactionId                                                                 \n",
       "TransactionId_15258                4    1.0         0.0       1        23080  \n",
       "TransactionId_36687                2    0.0         1.0       4        28721  \n",
       "TransactionId_113440               2    1.0         0.0       4        71746  \n",
       "TransactionId_3892                 2    0.0         0.0       2        54626  \n",
       "TransactionId_66712                2    0.0         0.0       3        61173  "
      ]
     },
     "execution_count": 22,
     "metadata": {},
     "output_type": "execute_result"
    }
   ],
   "source": [
    "X_test.head()"
   ]
  },
  {
   "cell_type": "code",
   "execution_count": 23,
   "metadata": {},
   "outputs": [],
   "source": [
    "X_train_sm, y_train_sm = custom_smote(X_train, y_train, 42)\n",
    "\n",
    "# sort test to match train\n",
    "X_test = X_test[[\"ProviderId\", \"ProductCategory\", \"ChannelId\", \"PricingStrategy\", \n",
    "        \"weekday\", \"difference\", \"InOut\", \"Value\", \"time_of_day\"]]"
   ]
  },
  {
   "cell_type": "code",
   "execution_count": 24,
   "metadata": {},
   "outputs": [
    {
     "data": {
      "text/html": [
       "<div>\n",
       "<style scoped>\n",
       "    .dataframe tbody tr th:only-of-type {\n",
       "        vertical-align: middle;\n",
       "    }\n",
       "\n",
       "    .dataframe tbody tr th {\n",
       "        vertical-align: top;\n",
       "    }\n",
       "\n",
       "    .dataframe thead th {\n",
       "        text-align: right;\n",
       "    }\n",
       "</style>\n",
       "<table border=\"1\" class=\"dataframe\">\n",
       "  <thead>\n",
       "    <tr style=\"text-align: right;\">\n",
       "      <th></th>\n",
       "      <th>ProviderId</th>\n",
       "      <th>ProductCategory</th>\n",
       "      <th>ChannelId</th>\n",
       "      <th>Value</th>\n",
       "      <th>PricingStrategy</th>\n",
       "      <th>InOut</th>\n",
       "      <th>difference</th>\n",
       "      <th>weekday</th>\n",
       "      <th>time_of_day</th>\n",
       "    </tr>\n",
       "    <tr>\n",
       "      <th>TransactionId</th>\n",
       "      <th></th>\n",
       "      <th></th>\n",
       "      <th></th>\n",
       "      <th></th>\n",
       "      <th></th>\n",
       "      <th></th>\n",
       "      <th></th>\n",
       "      <th></th>\n",
       "      <th></th>\n",
       "    </tr>\n",
       "  </thead>\n",
       "  <tbody>\n",
       "    <tr>\n",
       "      <th>TransactionId_29751</th>\n",
       "      <td>4</td>\n",
       "      <td>financial_services</td>\n",
       "      <td>2</td>\n",
       "      <td>200</td>\n",
       "      <td>2</td>\n",
       "      <td>1.0</td>\n",
       "      <td>0.0</td>\n",
       "      <td>4</td>\n",
       "      <td>28699</td>\n",
       "    </tr>\n",
       "    <tr>\n",
       "      <th>TransactionId_114629</th>\n",
       "      <td>4</td>\n",
       "      <td>financial_services</td>\n",
       "      <td>2</td>\n",
       "      <td>40</td>\n",
       "      <td>2</td>\n",
       "      <td>1.0</td>\n",
       "      <td>0.0</td>\n",
       "      <td>0</td>\n",
       "      <td>41786</td>\n",
       "    </tr>\n",
       "    <tr>\n",
       "      <th>TransactionId_116446</th>\n",
       "      <td>4</td>\n",
       "      <td>financial_services</td>\n",
       "      <td>2</td>\n",
       "      <td>50</td>\n",
       "      <td>2</td>\n",
       "      <td>1.0</td>\n",
       "      <td>0.0</td>\n",
       "      <td>6</td>\n",
       "      <td>61735</td>\n",
       "    </tr>\n",
       "    <tr>\n",
       "      <th>TransactionId_32816</th>\n",
       "      <td>6</td>\n",
       "      <td>airtime</td>\n",
       "      <td>3</td>\n",
       "      <td>1000</td>\n",
       "      <td>2</td>\n",
       "      <td>0.0</td>\n",
       "      <td>0.0</td>\n",
       "      <td>0</td>\n",
       "      <td>65871</td>\n",
       "    </tr>\n",
       "    <tr>\n",
       "      <th>TransactionId_41661</th>\n",
       "      <td>6</td>\n",
       "      <td>airtime</td>\n",
       "      <td>3</td>\n",
       "      <td>2000</td>\n",
       "      <td>2</td>\n",
       "      <td>0.0</td>\n",
       "      <td>0.0</td>\n",
       "      <td>4</td>\n",
       "      <td>49474</td>\n",
       "    </tr>\n",
       "  </tbody>\n",
       "</table>\n",
       "</div>"
      ],
      "text/plain": [
       "                     ProviderId     ProductCategory ChannelId  Value  \\\n",
       "TransactionId                                                          \n",
       "TransactionId_29751           4  financial_services         2    200   \n",
       "TransactionId_114629          4  financial_services         2     40   \n",
       "TransactionId_116446          4  financial_services         2     50   \n",
       "TransactionId_32816           6             airtime         3   1000   \n",
       "TransactionId_41661           6             airtime         3   2000   \n",
       "\n",
       "                     PricingStrategy  InOut  difference weekday  time_of_day  \n",
       "TransactionId                                                                 \n",
       "TransactionId_29751                2    1.0         0.0       4        28699  \n",
       "TransactionId_114629               2    1.0         0.0       0        41786  \n",
       "TransactionId_116446               2    1.0         0.0       6        61735  \n",
       "TransactionId_32816                2    0.0         0.0       0        65871  \n",
       "TransactionId_41661                2    0.0         0.0       4        49474  "
      ]
     },
     "execution_count": 24,
     "metadata": {},
     "output_type": "execute_result"
    }
   ],
   "source": [
    "X_train.head()"
   ]
  },
  {
   "cell_type": "code",
   "execution_count": 25,
   "metadata": {},
   "outputs": [],
   "source": [
    "cat_features = [\n",
    "    \"ProviderId\", \"ProductCategory\", \"ChannelId\", \"PricingStrategy\", \"InOut\", \"difference\", \"weekday\"\n",
    "    ]\n",
    "num_features = [\"Value\", \"time_of_day\"]\n",
    "\n",
    "X_train_sm_sc, X_test_sc = custom_preprocess(X_train_sm, X_test, nf=num_features)"
   ]
  },
  {
   "cell_type": "code",
   "execution_count": 26,
   "metadata": {},
   "outputs": [],
   "source": [
    "# Make sure types are the same for train and test (can certainly be done more elegantly from the start)\n",
    "X_test_sc = X_test_sc.astype({\"difference\": \"object\", \"InOut\": \"object\"})"
   ]
  },
  {
   "cell_type": "code",
   "execution_count": 27,
   "metadata": {},
   "outputs": [
    {
     "data": {
      "text/plain": [
       "ProviderId          object\n",
       "ProductCategory     object\n",
       "ChannelId           object\n",
       "PricingStrategy     object\n",
       "weekday             object\n",
       "difference          object\n",
       "InOut               object\n",
       "Value              float64\n",
       "time_of_day        float64\n",
       "dtype: object"
      ]
     },
     "execution_count": 27,
     "metadata": {},
     "output_type": "execute_result"
    }
   ],
   "source": [
    "X_train_sm_sc.dtypes"
   ]
  },
  {
   "cell_type": "code",
   "execution_count": 28,
   "metadata": {},
   "outputs": [
    {
     "data": {
      "text/plain": [
       "ProviderId          object\n",
       "ProductCategory     object\n",
       "ChannelId           object\n",
       "PricingStrategy     object\n",
       "weekday             object\n",
       "difference          object\n",
       "InOut               object\n",
       "Value              float64\n",
       "time_of_day        float64\n",
       "dtype: object"
      ]
     },
     "execution_count": 28,
     "metadata": {},
     "output_type": "execute_result"
    }
   ],
   "source": [
    "X_test_sc.dtypes"
   ]
  },
  {
   "cell_type": "code",
   "execution_count": 29,
   "metadata": {},
   "outputs": [
    {
     "data": {
      "text/plain": [
       "['ProviderId',\n",
       " 'ProductCategory',\n",
       " 'ChannelId',\n",
       " 'PricingStrategy',\n",
       " 'InOut',\n",
       " 'difference',\n",
       " 'weekday']"
      ]
     },
     "execution_count": 29,
     "metadata": {},
     "output_type": "execute_result"
    }
   ],
   "source": [
    "cat_features"
   ]
  },
  {
   "cell_type": "code",
   "execution_count": 30,
   "metadata": {},
   "outputs": [],
   "source": [
    "X_train_sm_sc, cat_features_dummies = cust_dummies(X_train_sm_sc, cat_features)\n",
    "X_test_sc, cat_features = cust_dummies(X_test_sc, cat_features)"
   ]
  },
  {
   "cell_type": "code",
   "execution_count": 31,
   "metadata": {},
   "outputs": [
    {
     "data": {
      "text/plain": [
       "Index(['Value', 'time_of_day', 'ProviderId_2', 'ProviderId_3', 'ProviderId_4',\n",
       "       'ProviderId_5', 'ProviderId_6', 'ProductCategory_data_bundles',\n",
       "       'ProductCategory_financial_services', 'ProductCategory_movies',\n",
       "       'ProductCategory_other', 'ProductCategory_ticket',\n",
       "       'ProductCategory_transport', 'ProductCategory_tv',\n",
       "       'ProductCategory_utility_bill', 'ChannelId_2', 'ChannelId_3',\n",
       "       'ChannelId_5', 'PricingStrategy_1', 'PricingStrategy_2',\n",
       "       'PricingStrategy_4', 'InOut_1.0', 'difference_1.0', 'weekday_1',\n",
       "       'weekday_2', 'weekday_3', 'weekday_4', 'weekday_5', 'weekday_6'],\n",
       "      dtype='object')"
      ]
     },
     "execution_count": 31,
     "metadata": {},
     "output_type": "execute_result"
    }
   ],
   "source": [
    "X_test_sc.columns"
   ]
  },
  {
   "cell_type": "code",
   "execution_count": 32,
   "metadata": {},
   "outputs": [
    {
     "data": {
      "text/plain": [
       "Index(['Value', 'time_of_day', 'ProviderId_2', 'ProviderId_3', 'ProviderId_4',\n",
       "       'ProviderId_5', 'ProviderId_6', 'ProductCategory_data_bundles',\n",
       "       'ProductCategory_financial_services', 'ProductCategory_movies',\n",
       "       'ProductCategory_other', 'ProductCategory_ticket',\n",
       "       'ProductCategory_transport', 'ProductCategory_tv',\n",
       "       'ProductCategory_utility_bill', 'ChannelId_2', 'ChannelId_3',\n",
       "       'ChannelId_5', 'PricingStrategy_1', 'PricingStrategy_2',\n",
       "       'PricingStrategy_4', 'InOut_1.0', 'difference_1.0', 'weekday_1',\n",
       "       'weekday_2', 'weekday_3', 'weekday_4', 'weekday_5', 'weekday_6'],\n",
       "      dtype='object')"
      ]
     },
     "execution_count": 32,
     "metadata": {},
     "output_type": "execute_result"
    }
   ],
   "source": [
    "X_train_sm_sc.columns"
   ]
  },
  {
   "cell_type": "code",
   "execution_count": 33,
   "metadata": {},
   "outputs": [
    {
     "name": "stderr",
     "output_type": "stream",
     "text": [
      "/Users/burkhardtflemer/Desktop/neuefische/ds-ml-xente-fraud-detection-project/.venv/lib/python3.9/site-packages/sklearn/linear_model/_logistic.py:444: ConvergenceWarning: lbfgs failed to converge (status=1):\n",
      "STOP: TOTAL NO. of ITERATIONS REACHED LIMIT.\n",
      "\n",
      "Increase the number of iterations (max_iter) or scale the data as shown in:\n",
      "    https://scikit-learn.org/stable/modules/preprocessing.html\n",
      "Please also refer to the documentation for alternative solver options:\n",
      "    https://scikit-learn.org/stable/modules/linear_model.html#logistic-regression\n",
      "  n_iter_i = _check_optimize_result(\n"
     ]
    },
    {
     "data": {
      "text/plain": [
       "array([[23718,   150],\n",
       "       [    2,    46]])"
      ]
     },
     "execution_count": 33,
     "metadata": {},
     "output_type": "execute_result"
    }
   ],
   "source": [
    "\n",
    "y_train_sm_lr, y_test_lr = custom_logreg(X_train_sm_sc, X_test_sc, y_train_sm, y_test)\n",
    "confusion_matrix(y_test, y_test_lr)\n"
   ]
  },
  {
   "cell_type": "code",
   "execution_count": 34,
   "metadata": {},
   "outputs": [],
   "source": [
    "\n",
    "y_train_sm_nb, y_test_nb = custom_nb(X_train_sm_sc, X_test_sc, y_train_sm, y_test)"
   ]
  },
  {
   "cell_type": "code",
   "execution_count": 35,
   "metadata": {},
   "outputs": [
    {
     "data": {
      "text/plain": [
       "array([[18327,  5541],\n",
       "       [    1,    47]])"
      ]
     },
     "execution_count": 35,
     "metadata": {},
     "output_type": "execute_result"
    }
   ],
   "source": [
    "confusion_matrix(y_test, y_test_nb)"
   ]
  },
  {
   "cell_type": "code",
   "execution_count": 36,
   "metadata": {},
   "outputs": [],
   "source": [
    "\n",
    "y_train_sm_rf, y_test_rf = custom_rf(X_train_sm_sc, X_test_sc, y_train_sm, y_test)"
   ]
  },
  {
   "cell_type": "code",
   "execution_count": 37,
   "metadata": {},
   "outputs": [
    {
     "data": {
      "text/plain": [
       "array([[23845,    23],\n",
       "       [    7,    41]])"
      ]
     },
     "execution_count": 37,
     "metadata": {},
     "output_type": "execute_result"
    }
   ],
   "source": [
    "confusion_matrix(y_test, y_test_rf)"
   ]
  },
  {
   "cell_type": "code",
   "execution_count": 38,
   "metadata": {},
   "outputs": [
    {
     "data": {
      "text/plain": [
       "array([[23792,    76],\n",
       "       [   15,    33]])"
      ]
     },
     "execution_count": 38,
     "metadata": {},
     "output_type": "execute_result"
    }
   ],
   "source": [
    "\n",
    "y_train_sm_knn, y_test_knn = custom_knn(X_train_sm_sc, X_test_sc, y_train_sm, y_test)\n",
    "confusion_matrix(y_test, y_test_knn)\n"
   ]
  },
  {
   "cell_type": "code",
   "execution_count": 39,
   "metadata": {},
   "outputs": [
    {
     "data": {
      "text/plain": [
       "array([[23739,   129],\n",
       "       [    4,    44]])"
      ]
     },
     "execution_count": 39,
     "metadata": {},
     "output_type": "execute_result"
    }
   ],
   "source": [
    "\n",
    "y_train_sm_svc, y_test_svc = custom_svc(X_train_sm_sc, X_test_sc, y_train_sm, y_test)\n",
    "confusion_matrix(y_test, y_test_svc)\n"
   ]
  },
  {
   "cell_type": "code",
   "execution_count": 40,
   "metadata": {},
   "outputs": [
    {
     "data": {
      "text/plain": [
       "array([[23792,    76],\n",
       "       [   15,    33]])"
      ]
     },
     "execution_count": 40,
     "metadata": {},
     "output_type": "execute_result"
    }
   ],
   "source": [
    "\n",
    "y_train_sm_stack, y_test_stack = custom_knn(X_train_sm_sc, X_test_sc, y_train_sm, y_test)\n",
    "confusion_matrix(y_test, y_test_stack)"
   ]
  },
  {
   "cell_type": "code",
   "execution_count": 41,
   "metadata": {},
   "outputs": [
    {
     "name": "stdout",
     "output_type": "stream",
     "text": [
      "Cross validation scores Logistic Regression:\n",
      "-------------------------\n",
      "F1-score: 0.38\n",
      "MCC: 0.47\n",
      "Cross validation scores Random Forest:\n",
      "-------------------------\n",
      "F1-score: 0.73\n",
      "MCC: 0.74\n",
      "Cross validation scores KNN:\n",
      "-------------------------\n",
      "F1-score: 0.42\n",
      "MCC: 0.45\n",
      "Cross validation scores SVM:\n",
      "-------------------------\n",
      "F1-score: 0.40\n",
      "MCC: 0.48\n",
      "Cross validation scores Naive Bayes:\n",
      "-------------------------\n",
      "F1-score: 0.02\n",
      "MCC: 0.08\n",
      "Cross validation scores Stack:\n",
      "-------------------------\n",
      "F1-score: 0.42\n",
      "MCC: 0.45\n"
     ]
    }
   ],
   "source": [
    "from sklearn.metrics import f1_score, matthews_corrcoef\n",
    "###########################\n",
    "#  Predict on test data   #\n",
    "###########################\n",
    "\n",
    "# Calculating the accuracy for the LogisticRegression Classifier \n",
    "print('Cross validation scores Logistic Regression:')\n",
    "print('-------------------------')\n",
    "print(\"F1-score: {:.2f}\".format(f1_score(y_test, y_test_lr)))\n",
    "print(\"MCC: {:.2f}\".format(matthews_corrcoef(y_test, y_test_lr)))\n",
    "\n",
    "# Calculating the accuracy for the RandomForest Classifier \n",
    "print('Cross validation scores Random Forest:')\n",
    "print('-------------------------')\n",
    "print(\"F1-score: {:.2f}\".format(f1_score(y_test, y_test_rf)))\n",
    "print(\"MCC: {:.2f}\".format(matthews_corrcoef(y_test, y_test_rf)))\n",
    "\n",
    "# Calculating the accuracy for the KNN Classifier \n",
    "print('Cross validation scores KNN:')\n",
    "print('-------------------------')\n",
    "print(\"F1-score: {:.2f}\".format(f1_score(y_test, y_test_knn)))\n",
    "print(\"MCC: {:.2f}\".format(matthews_corrcoef(y_test, y_test_knn)))\n",
    "\n",
    "# Calculating the accuracy for the SVM Classifier \n",
    "print('Cross validation scores SVM:')\n",
    "print('-------------------------')\n",
    "print(\"F1-score: {:.2f}\".format(f1_score(y_test, y_test_svc)))\n",
    "print(\"MCC: {:.2f}\".format(matthews_corrcoef(y_test, y_test_svc)))\n",
    "\n",
    "# Calculating the accuracy for the Naive Bayes Classifier \n",
    "print('Cross validation scores Naive Bayes:')\n",
    "print('-------------------------')\n",
    "print(\"F1-score: {:.2f}\".format(f1_score(y_test, y_test_nb)))\n",
    "print(\"MCC: {:.2f}\".format(matthews_corrcoef(y_test, y_test_nb)))\n",
    "\n",
    "# Calculating the accuracy for the stacking Classifier \n",
    "print('Cross validation scores Stack:')\n",
    "print('-------------------------')\n",
    "print(\"F1-score: {:.2f}\".format(f1_score(y_test, y_test_stack)))\n",
    "print(\"MCC: {:.2f}\".format(matthews_corrcoef(y_test, y_test_stack)))"
   ]
  },
  {
   "cell_type": "markdown",
   "metadata": {},
   "source": [
    "some old code which I may want to reactivate again\n",
    "\n",
    "`# Initiate OneHotEncoder()  \n",
    "ohe = OneHotEncoder(handle_unknown='ignore')  \n",
    "# run ohe  \n",
    "X_train = ohe.fit_transform(X_train[cf])\n",
    "X_test[cf] = ohe.transform(X_test[cf])\n",
    "    \n",
    "# transfrom sparse to dense\n",
    "X_train = X_train.todense() \n",
    "X_test = X_test.todense()`\n"
   ]
  },
  {
   "cell_type": "markdown",
   "metadata": {},
   "source": [
    "### As learning a model takes a lot of time, I think it would be useful to save them to file so that they can be loaded later on for prediction\n",
    "#### examplecode, save the model to disk\n",
    "from [here](https://machinelearningmastery.com/save-load-machine-learning-models-python-scikit-learn/)  \n",
    "\n",
    "`filename = 'finalized_model.sav'  \n",
    "\n",
    "joblib.dump(model, filename)`  \n",
    " \n",
    "#### some time later...\n",
    " \n",
    "#### load the model from disk\n",
    "\n",
    "`loaded_model = joblib.load(filename)  \n",
    "\n",
    "result = loaded_model.score(X_test, Y_test)  \n",
    "\n",
    "print(result)`  "
   ]
  },
  {
   "cell_type": "code",
   "execution_count": 85,
   "metadata": {},
   "outputs": [],
   "source": [
    "def get_all_data_from_csv():\n",
    "    \"\"\"df import with some alterations we discovered so far\n",
    "    Parses dates, drops 'CountryCode' and 'CurrencyCode' columns, sets appropriate dtypes.\n",
    "    Returns:\n",
    "        DataFrame: A dataframe with the imported data\n",
    "    \"\"\"\n",
    "\n",
    "    import pandas as pd\n",
    "    return pd.read_csv(\n",
    "        'data/xente/training.csv', parse_dates=['TransactionStartTime'],  \n",
    "        index_col='TransactionId')\n",
    "import pandas as pd\n",
    "tmpdf = get_all_data_from_csv()"
   ]
  },
  {
   "cell_type": "code",
   "execution_count": 69,
   "metadata": {},
   "outputs": [
    {
     "data": {
      "text/html": [
       "<div>\n",
       "<style scoped>\n",
       "    .dataframe tbody tr th:only-of-type {\n",
       "        vertical-align: middle;\n",
       "    }\n",
       "\n",
       "    .dataframe tbody tr th {\n",
       "        vertical-align: top;\n",
       "    }\n",
       "\n",
       "    .dataframe thead th {\n",
       "        text-align: right;\n",
       "    }\n",
       "</style>\n",
       "<table border=\"1\" class=\"dataframe\">\n",
       "  <thead>\n",
       "    <tr style=\"text-align: right;\">\n",
       "      <th></th>\n",
       "      <th>ProviderId</th>\n",
       "      <th>ProductCategory</th>\n",
       "      <th>ChannelId</th>\n",
       "      <th>Amount</th>\n",
       "      <th>Value</th>\n",
       "      <th>TransactionStartTime</th>\n",
       "      <th>PricingStrategy</th>\n",
       "      <th>FraudResult</th>\n",
       "      <th>mvg_avg_fr</th>\n",
       "      <th>mvg_avg_v</th>\n",
       "    </tr>\n",
       "    <tr>\n",
       "      <th>TransactionId</th>\n",
       "      <th></th>\n",
       "      <th></th>\n",
       "      <th></th>\n",
       "      <th></th>\n",
       "      <th></th>\n",
       "      <th></th>\n",
       "      <th></th>\n",
       "      <th></th>\n",
       "      <th></th>\n",
       "      <th></th>\n",
       "    </tr>\n",
       "  </thead>\n",
       "  <tbody>\n",
       "    <tr>\n",
       "      <th>TransactionId_76871</th>\n",
       "      <td>ProviderId_6</td>\n",
       "      <td>airtime</td>\n",
       "      <td>ChannelId_3</td>\n",
       "      <td>1000.0</td>\n",
       "      <td>1000</td>\n",
       "      <td>2018-11-15 02:18:49+00:00</td>\n",
       "      <td>2</td>\n",
       "      <td>0</td>\n",
       "      <td>NaN</td>\n",
       "      <td>NaN</td>\n",
       "    </tr>\n",
       "    <tr>\n",
       "      <th>TransactionId_73770</th>\n",
       "      <td>ProviderId_4</td>\n",
       "      <td>financial_services</td>\n",
       "      <td>ChannelId_2</td>\n",
       "      <td>-20.0</td>\n",
       "      <td>20</td>\n",
       "      <td>2018-11-15 02:19:08+00:00</td>\n",
       "      <td>2</td>\n",
       "      <td>0</td>\n",
       "      <td>NaN</td>\n",
       "      <td>NaN</td>\n",
       "    </tr>\n",
       "    <tr>\n",
       "      <th>TransactionId_26203</th>\n",
       "      <td>ProviderId_6</td>\n",
       "      <td>airtime</td>\n",
       "      <td>ChannelId_3</td>\n",
       "      <td>500.0</td>\n",
       "      <td>500</td>\n",
       "      <td>2018-11-15 02:44:21+00:00</td>\n",
       "      <td>2</td>\n",
       "      <td>0</td>\n",
       "      <td>NaN</td>\n",
       "      <td>NaN</td>\n",
       "    </tr>\n",
       "    <tr>\n",
       "      <th>TransactionId_380</th>\n",
       "      <td>ProviderId_1</td>\n",
       "      <td>utility_bill</td>\n",
       "      <td>ChannelId_3</td>\n",
       "      <td>20000.0</td>\n",
       "      <td>21800</td>\n",
       "      <td>2018-11-15 03:32:55+00:00</td>\n",
       "      <td>2</td>\n",
       "      <td>0</td>\n",
       "      <td>NaN</td>\n",
       "      <td>NaN</td>\n",
       "    </tr>\n",
       "    <tr>\n",
       "      <th>TransactionId_28195</th>\n",
       "      <td>ProviderId_4</td>\n",
       "      <td>financial_services</td>\n",
       "      <td>ChannelId_2</td>\n",
       "      <td>-644.0</td>\n",
       "      <td>644</td>\n",
       "      <td>2018-11-15 03:34:21+00:00</td>\n",
       "      <td>2</td>\n",
       "      <td>0</td>\n",
       "      <td>NaN</td>\n",
       "      <td>NaN</td>\n",
       "    </tr>\n",
       "  </tbody>\n",
       "</table>\n",
       "</div>"
      ],
      "text/plain": [
       "                       ProviderId     ProductCategory    ChannelId   Amount  \\\n",
       "TransactionId                                                                 \n",
       "TransactionId_76871  ProviderId_6             airtime  ChannelId_3   1000.0   \n",
       "TransactionId_73770  ProviderId_4  financial_services  ChannelId_2    -20.0   \n",
       "TransactionId_26203  ProviderId_6             airtime  ChannelId_3    500.0   \n",
       "TransactionId_380    ProviderId_1        utility_bill  ChannelId_3  20000.0   \n",
       "TransactionId_28195  ProviderId_4  financial_services  ChannelId_2   -644.0   \n",
       "\n",
       "                     Value      TransactionStartTime  PricingStrategy  \\\n",
       "TransactionId                                                           \n",
       "TransactionId_76871   1000 2018-11-15 02:18:49+00:00                2   \n",
       "TransactionId_73770     20 2018-11-15 02:19:08+00:00                2   \n",
       "TransactionId_26203    500 2018-11-15 02:44:21+00:00                2   \n",
       "TransactionId_380    21800 2018-11-15 03:32:55+00:00                2   \n",
       "TransactionId_28195    644 2018-11-15 03:34:21+00:00                2   \n",
       "\n",
       "                     FraudResult  mvg_avg_fr  mvg_avg_v  \n",
       "TransactionId                                            \n",
       "TransactionId_76871            0         NaN        NaN  \n",
       "TransactionId_73770            0         NaN        NaN  \n",
       "TransactionId_26203            0         NaN        NaN  \n",
       "TransactionId_380              0         NaN        NaN  \n",
       "TransactionId_28195            0         NaN        NaN  "
      ]
     },
     "execution_count": 69,
     "metadata": {},
     "output_type": "execute_result"
    }
   ],
   "source": [
    "\n",
    "tmpdf[\"mvg_avg_fr\"] = df.FraudResult.rolling(14).mean()\n",
    "tmpdf[\"mvg_avg_v\"] = df.Value.rolling(14).mean()\n",
    "import seaborn as sns\n",
    "\n",
    "#sns.barplot(data=tmpdf, x=\"Start\")\n",
    "tmpdf[\"day\"]"
   ]
  },
  {
   "cell_type": "code",
   "execution_count": 70,
   "metadata": {},
   "outputs": [
    {
     "data": {
      "text/plain": [
       "(array([17850., 17866., 17880., 17897., 17911., 17928., 17942.]),\n",
       " [Text(0, 0, ''),\n",
       "  Text(0, 0, ''),\n",
       "  Text(0, 0, ''),\n",
       "  Text(0, 0, ''),\n",
       "  Text(0, 0, ''),\n",
       "  Text(0, 0, ''),\n",
       "  Text(0, 0, '')])"
      ]
     },
     "execution_count": 70,
     "metadata": {},
     "output_type": "execute_result"
    },
    {
     "data": {
      "image/png": "[encoded data removed]",
      "text/plain": [
       "<Figure size 640x480 with 1 Axes>"
      ]
     },
     "metadata": {},
     "output_type": "display_data"
    }
   ],
   "source": [
    "import matplotlib.pyplot as plt\n",
    "sns.scatterplot(data=tmpdf, x=\"TransactionStartTime\", y=\"mvg_avg_v\", hue = \"FraudResult\")\n",
    "plt.xticks(rotation = 45)"
   ]
  },
  {
   "cell_type": "code",
   "execution_count": 80,
   "metadata": {},
   "outputs": [
    {
     "data": {
      "image/png": "[encoded data removed]",
      "text/plain": [
       "<Figure size 640x480 with 1 Axes>"
      ]
     },
     "metadata": {},
     "output_type": "display_data"
    }
   ],
   "source": [
    "sns.scatterplot(data=tmpdf, x=\"TransactionStartTime\", y=\"mvg_avg_fr\", hue = \"FraudResult\")\n",
    "plt.xticks(rotation = 45);"
   ]
  },
  {
   "cell_type": "code",
   "execution_count": 79,
   "metadata": {},
   "outputs": [
    {
     "data": {
      "image/png": "[encoded data removed]",
      "text/plain": [
       "<Figure size 640x480 with 1 Axes>"
      ]
     },
     "metadata": {},
     "output_type": "display_data"
    }
   ],
   "source": [
    "sns.histplot(data=tmpdf, x=\"TransactionStartTime\", bins=13)\n",
    "plt.xticks(rotation = 45);"
   ]
  },
  {
   "cell_type": "code",
   "execution_count": 75,
   "metadata": {},
   "outputs": [
    {
     "data": {
      "text/plain": [
       "91"
      ]
     },
     "execution_count": 75,
     "metadata": {},
     "output_type": "execute_result"
    }
   ],
   "source": [
    "tmpdf.TransactionStartTime.dt.date.nunique()"
   ]
  },
  {
   "cell_type": "code",
   "execution_count": 113,
   "metadata": {},
   "outputs": [
    {
     "data": {
      "text/html": [
       "<div>\n",
       "<style scoped>\n",
       "    .dataframe tbody tr th:only-of-type {\n",
       "        vertical-align: middle;\n",
       "    }\n",
       "\n",
       "    .dataframe tbody tr th {\n",
       "        vertical-align: top;\n",
       "    }\n",
       "\n",
       "    .dataframe thead th {\n",
       "        text-align: right;\n",
       "    }\n",
       "</style>\n",
       "<table border=\"1\" class=\"dataframe\">\n",
       "  <thead>\n",
       "    <tr style=\"text-align: right;\">\n",
       "      <th></th>\n",
       "      <th>TransactionId</th>\n",
       "      <th>BatchId</th>\n",
       "      <th>AccountId</th>\n",
       "      <th>SubscriptionId</th>\n",
       "      <th>CustomerId</th>\n",
       "      <th>CurrencyCode</th>\n",
       "      <th>CountryCode</th>\n",
       "      <th>ProviderId</th>\n",
       "      <th>ProductId</th>\n",
       "      <th>ProductCategory</th>\n",
       "      <th>ChannelId</th>\n",
       "      <th>Amount</th>\n",
       "      <th>Value</th>\n",
       "      <th>TransactionStartTime</th>\n",
       "      <th>PricingStrategy</th>\n",
       "      <th>FraudResult</th>\n",
       "    </tr>\n",
       "  </thead>\n",
       "  <tbody>\n",
       "    <tr>\n",
       "      <th>0</th>\n",
       "      <td>TransactionId_73770</td>\n",
       "      <td>BatchId_15642</td>\n",
       "      <td>AccountId_4841</td>\n",
       "      <td>SubscriptionId_3829</td>\n",
       "      <td>CustomerId_4406</td>\n",
       "      <td>UGX</td>\n",
       "      <td>256</td>\n",
       "      <td>ProviderId_4</td>\n",
       "      <td>ProductId_6</td>\n",
       "      <td>financial_services</td>\n",
       "      <td>ChannelId_2</td>\n",
       "      <td>-20.0</td>\n",
       "      <td>20</td>\n",
       "      <td>2018-11-15 02:19:08+00:00</td>\n",
       "      <td>2</td>\n",
       "      <td>0</td>\n",
       "    </tr>\n",
       "    <tr>\n",
       "      <th>1</th>\n",
       "      <td>TransactionId_28195</td>\n",
       "      <td>BatchId_38780</td>\n",
       "      <td>AccountId_4841</td>\n",
       "      <td>SubscriptionId_3829</td>\n",
       "      <td>CustomerId_988</td>\n",
       "      <td>UGX</td>\n",
       "      <td>256</td>\n",
       "      <td>ProviderId_4</td>\n",
       "      <td>ProductId_6</td>\n",
       "      <td>financial_services</td>\n",
       "      <td>ChannelId_2</td>\n",
       "      <td>-644.0</td>\n",
       "      <td>644</td>\n",
       "      <td>2018-11-15 03:34:21+00:00</td>\n",
       "      <td>2</td>\n",
       "      <td>0</td>\n",
       "    </tr>\n",
       "    <tr>\n",
       "      <th>2</th>\n",
       "      <td>TransactionId_100640</td>\n",
       "      <td>BatchId_38561</td>\n",
       "      <td>AccountId_4841</td>\n",
       "      <td>SubscriptionId_3829</td>\n",
       "      <td>CustomerId_2858</td>\n",
       "      <td>UGX</td>\n",
       "      <td>256</td>\n",
       "      <td>ProviderId_4</td>\n",
       "      <td>ProductId_6</td>\n",
       "      <td>financial_services</td>\n",
       "      <td>ChannelId_2</td>\n",
       "      <td>-500.0</td>\n",
       "      <td>500</td>\n",
       "      <td>2018-11-15 03:45:13+00:00</td>\n",
       "      <td>2</td>\n",
       "      <td>0</td>\n",
       "    </tr>\n",
       "    <tr>\n",
       "      <th>3</th>\n",
       "      <td>TransactionId_33857</td>\n",
       "      <td>BatchId_126394</td>\n",
       "      <td>AccountId_4841</td>\n",
       "      <td>SubscriptionId_3829</td>\n",
       "      <td>CustomerId_3052</td>\n",
       "      <td>UGX</td>\n",
       "      <td>256</td>\n",
       "      <td>ProviderId_4</td>\n",
       "      <td>ProductId_6</td>\n",
       "      <td>financial_services</td>\n",
       "      <td>ChannelId_2</td>\n",
       "      <td>-40.0</td>\n",
       "      <td>40</td>\n",
       "      <td>2018-11-15 04:32:42+00:00</td>\n",
       "      <td>2</td>\n",
       "      <td>0</td>\n",
       "    </tr>\n",
       "    <tr>\n",
       "      <th>4</th>\n",
       "      <td>TransactionId_64044</td>\n",
       "      <td>BatchId_117733</td>\n",
       "      <td>AccountId_4841</td>\n",
       "      <td>SubscriptionId_3829</td>\n",
       "      <td>CustomerId_3105</td>\n",
       "      <td>UGX</td>\n",
       "      <td>256</td>\n",
       "      <td>ProviderId_4</td>\n",
       "      <td>ProductId_6</td>\n",
       "      <td>financial_services</td>\n",
       "      <td>ChannelId_2</td>\n",
       "      <td>-10.0</td>\n",
       "      <td>10</td>\n",
       "      <td>2018-11-15 04:54:18+00:00</td>\n",
       "      <td>2</td>\n",
       "      <td>0</td>\n",
       "    </tr>\n",
       "    <tr>\n",
       "      <th>...</th>\n",
       "      <td>...</td>\n",
       "      <td>...</td>\n",
       "      <td>...</td>\n",
       "      <td>...</td>\n",
       "      <td>...</td>\n",
       "      <td>...</td>\n",
       "      <td>...</td>\n",
       "      <td>...</td>\n",
       "      <td>...</td>\n",
       "      <td>...</td>\n",
       "      <td>...</td>\n",
       "      <td>...</td>\n",
       "      <td>...</td>\n",
       "      <td>...</td>\n",
       "      <td>...</td>\n",
       "      <td>...</td>\n",
       "    </tr>\n",
       "    <tr>\n",
       "      <th>37796</th>\n",
       "      <td>TransactionId_68851</td>\n",
       "      <td>BatchId_100900</td>\n",
       "      <td>AccountId_4841</td>\n",
       "      <td>SubscriptionId_3829</td>\n",
       "      <td>CustomerId_539</td>\n",
       "      <td>UGX</td>\n",
       "      <td>256</td>\n",
       "      <td>ProviderId_4</td>\n",
       "      <td>ProductId_6</td>\n",
       "      <td>financial_services</td>\n",
       "      <td>ChannelId_2</td>\n",
       "      <td>-140.0</td>\n",
       "      <td>140</td>\n",
       "      <td>2019-02-13 09:50:34+00:00</td>\n",
       "      <td>2</td>\n",
       "      <td>0</td>\n",
       "    </tr>\n",
       "    <tr>\n",
       "      <th>37797</th>\n",
       "      <td>TransactionId_38907</td>\n",
       "      <td>BatchId_92168</td>\n",
       "      <td>AccountId_4841</td>\n",
       "      <td>SubscriptionId_3829</td>\n",
       "      <td>CustomerId_960</td>\n",
       "      <td>UGX</td>\n",
       "      <td>256</td>\n",
       "      <td>ProviderId_4</td>\n",
       "      <td>ProductId_6</td>\n",
       "      <td>financial_services</td>\n",
       "      <td>ChannelId_2</td>\n",
       "      <td>-50.0</td>\n",
       "      <td>50</td>\n",
       "      <td>2019-02-13 09:52:49+00:00</td>\n",
       "      <td>2</td>\n",
       "      <td>0</td>\n",
       "    </tr>\n",
       "    <tr>\n",
       "      <th>37798</th>\n",
       "      <td>TransactionId_89881</td>\n",
       "      <td>BatchId_96668</td>\n",
       "      <td>AccountId_4841</td>\n",
       "      <td>SubscriptionId_3829</td>\n",
       "      <td>CustomerId_3078</td>\n",
       "      <td>UGX</td>\n",
       "      <td>256</td>\n",
       "      <td>ProviderId_4</td>\n",
       "      <td>ProductId_6</td>\n",
       "      <td>financial_services</td>\n",
       "      <td>ChannelId_2</td>\n",
       "      <td>-1000.0</td>\n",
       "      <td>1000</td>\n",
       "      <td>2019-02-13 09:54:09+00:00</td>\n",
       "      <td>2</td>\n",
       "      <td>0</td>\n",
       "    </tr>\n",
       "    <tr>\n",
       "      <th>37799</th>\n",
       "      <td>TransactionId_82501</td>\n",
       "      <td>BatchId_118602</td>\n",
       "      <td>AccountId_4841</td>\n",
       "      <td>SubscriptionId_3829</td>\n",
       "      <td>CustomerId_3874</td>\n",
       "      <td>UGX</td>\n",
       "      <td>256</td>\n",
       "      <td>ProviderId_4</td>\n",
       "      <td>ProductId_6</td>\n",
       "      <td>financial_services</td>\n",
       "      <td>ChannelId_2</td>\n",
       "      <td>-20.0</td>\n",
       "      <td>20</td>\n",
       "      <td>2019-02-13 09:54:35+00:00</td>\n",
       "      <td>2</td>\n",
       "      <td>0</td>\n",
       "    </tr>\n",
       "    <tr>\n",
       "      <th>37800</th>\n",
       "      <td>TransactionId_35670</td>\n",
       "      <td>BatchId_29317</td>\n",
       "      <td>AccountId_4841</td>\n",
       "      <td>SubscriptionId_3829</td>\n",
       "      <td>CustomerId_1709</td>\n",
       "      <td>UGX</td>\n",
       "      <td>256</td>\n",
       "      <td>ProviderId_4</td>\n",
       "      <td>ProductId_6</td>\n",
       "      <td>financial_services</td>\n",
       "      <td>ChannelId_2</td>\n",
       "      <td>-60.0</td>\n",
       "      <td>60</td>\n",
       "      <td>2019-02-13 10:01:28+00:00</td>\n",
       "      <td>2</td>\n",
       "      <td>0</td>\n",
       "    </tr>\n",
       "  </tbody>\n",
       "</table>\n",
       "<p>37801 rows × 16 columns</p>\n",
       "</div>"
      ],
      "text/plain": [
       "              TransactionId         BatchId       AccountId  \\\n",
       "0       TransactionId_73770   BatchId_15642  AccountId_4841   \n",
       "1       TransactionId_28195   BatchId_38780  AccountId_4841   \n",
       "2      TransactionId_100640   BatchId_38561  AccountId_4841   \n",
       "3       TransactionId_33857  BatchId_126394  AccountId_4841   \n",
       "4       TransactionId_64044  BatchId_117733  AccountId_4841   \n",
       "...                     ...             ...             ...   \n",
       "37796   TransactionId_68851  BatchId_100900  AccountId_4841   \n",
       "37797   TransactionId_38907   BatchId_92168  AccountId_4841   \n",
       "37798   TransactionId_89881   BatchId_96668  AccountId_4841   \n",
       "37799   TransactionId_82501  BatchId_118602  AccountId_4841   \n",
       "37800   TransactionId_35670   BatchId_29317  AccountId_4841   \n",
       "\n",
       "            SubscriptionId       CustomerId CurrencyCode  CountryCode  \\\n",
       "0      SubscriptionId_3829  CustomerId_4406          UGX          256   \n",
       "1      SubscriptionId_3829   CustomerId_988          UGX          256   \n",
       "2      SubscriptionId_3829  CustomerId_2858          UGX          256   \n",
       "3      SubscriptionId_3829  CustomerId_3052          UGX          256   \n",
       "4      SubscriptionId_3829  CustomerId_3105          UGX          256   \n",
       "...                    ...              ...          ...          ...   \n",
       "37796  SubscriptionId_3829   CustomerId_539          UGX          256   \n",
       "37797  SubscriptionId_3829   CustomerId_960          UGX          256   \n",
       "37798  SubscriptionId_3829  CustomerId_3078          UGX          256   \n",
       "37799  SubscriptionId_3829  CustomerId_3874          UGX          256   \n",
       "37800  SubscriptionId_3829  CustomerId_1709          UGX          256   \n",
       "\n",
       "         ProviderId    ProductId     ProductCategory    ChannelId  Amount  \\\n",
       "0      ProviderId_4  ProductId_6  financial_services  ChannelId_2   -20.0   \n",
       "1      ProviderId_4  ProductId_6  financial_services  ChannelId_2  -644.0   \n",
       "2      ProviderId_4  ProductId_6  financial_services  ChannelId_2  -500.0   \n",
       "3      ProviderId_4  ProductId_6  financial_services  ChannelId_2   -40.0   \n",
       "4      ProviderId_4  ProductId_6  financial_services  ChannelId_2   -10.0   \n",
       "...             ...          ...                 ...          ...     ...   \n",
       "37796  ProviderId_4  ProductId_6  financial_services  ChannelId_2  -140.0   \n",
       "37797  ProviderId_4  ProductId_6  financial_services  ChannelId_2   -50.0   \n",
       "37798  ProviderId_4  ProductId_6  financial_services  ChannelId_2 -1000.0   \n",
       "37799  ProviderId_4  ProductId_6  financial_services  ChannelId_2   -20.0   \n",
       "37800  ProviderId_4  ProductId_6  financial_services  ChannelId_2   -60.0   \n",
       "\n",
       "       Value      TransactionStartTime  PricingStrategy  FraudResult  \n",
       "0         20 2018-11-15 02:19:08+00:00                2            0  \n",
       "1        644 2018-11-15 03:34:21+00:00                2            0  \n",
       "2        500 2018-11-15 03:45:13+00:00                2            0  \n",
       "3         40 2018-11-15 04:32:42+00:00                2            0  \n",
       "4         10 2018-11-15 04:54:18+00:00                2            0  \n",
       "...      ...                       ...              ...          ...  \n",
       "37796    140 2019-02-13 09:50:34+00:00                2            0  \n",
       "37797     50 2019-02-13 09:52:49+00:00                2            0  \n",
       "37798   1000 2019-02-13 09:54:09+00:00                2            0  \n",
       "37799     20 2019-02-13 09:54:35+00:00                2            0  \n",
       "37800     60 2019-02-13 10:01:28+00:00                2            0  \n",
       "\n",
       "[37801 rows x 16 columns]"
      ]
     },
     "execution_count": 113,
     "metadata": {},
     "output_type": "execute_result"
    }
   ],
   "source": [
    "tmp = tmpdf[tmpdf['AccountId'].isin(list(tmpdf[tmpdf.FraudResult == 1].AccountId))]\n",
    "tmp.reset_index(inplace=True)\n",
    "tmp\n",
    "# TODO: group number of CustomerIds for each account and assign new column"
   ]
  }
 ],
 "metadata": {
  "kernelspec": {
   "display_name": "Python 3.9.8 ('.venv': venv)",
   "language": "python",
   "name": "python3"
  },
  "language_info": {
   "codemirror_mode": {
    "name": "ipython",
    "version": 3
   },
   "file_extension": ".py",
   "mimetype": "text/x-python",
   "name": "python",
   "nbconvert_exporter": "python",
   "pygments_lexer": "ipython3",
   "version": "3.9.8"
  },
  "orig_nbformat": 4,
  "vscode": {
   "interpreter": {
    "hash": "8721f829b62e76f494600e5849ab226a0bc266f8f100abf162fe8bebd2c0448f"
   }
  }
 },
 "nbformat": 4,
 "nbformat_minor": 2
}
